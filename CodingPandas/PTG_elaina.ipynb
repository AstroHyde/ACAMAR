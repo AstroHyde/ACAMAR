{
 "cells": [
  {
   "cell_type": "code",
   "execution_count": 1,
   "metadata": {},
   "outputs": [],
   "source": [
    "import sys\n",
    "import matplotlib\n",
    "import matplotlib.path as mpath\n",
    "import matplotlib.pyplot as plt\n",
    "from matplotlib.pyplot import figure, show, axis\n",
    "from matplotlib.patches import Ellipse\n",
    "import scipy\n",
    "import numpy as np\n",
    "from numpy import *\n",
    "import math\n",
    "import pylab\n",
    "import random\n",
    "from pylab import *\n",
    "from astropy.coordinates import SkyCoord\n",
    "from astropy import units as u\n",
    "import pylab as P\n",
    "from astropy.io import ascii\n",
    "import pandas as pd\n",
    "import seaborn as sns\n",
    "from sklearn.neighbors import KNeighborsClassifier\n",
    "from sklearn.cluster import KMeans, k_means\n",
    "from sklearn.metrics import silhouette_score\n",
    "from sklearn.datasets.samples_generator import make_blobs\n",
    "from sklearn.linear_model import LinearRegression, LogisticRegression, Lasso, LassoCV\n",
    "from sklearn.tree import DecisionTreeRegressor, DecisionTreeClassifier\n",
    "from sklearn.model_selection import GridSearchCV, cross_val_score\n",
    "from sklearn.preprocessing import StandardScaler\n",
    "from sklearn.metrics import classification_report, confusion_matrix\n",
    "\n",
    "matplotlib.style.use('ggplot')\n",
    "\n",
    "sns.set_style('darkgrid')\n",
    "\n",
    "%matplotlib inline\n",
    "%config InlineBackend.figure_format ='retina'"
   ]
  },
  {
   "cell_type": "code",
   "execution_count": 2,
   "metadata": {},
   "outputs": [],
   "source": [
    "dat4=ascii.read(\"Leo4_lisp_rod_sdss_ppmxl\",data_start=2)\n",
    "dat5=ascii.read(\"Leo5_lisp_rod_sdss_ppmxl\",data_start=2)\n",
    "datB=ascii.read(\"LeoB_lisp_rod_sdss_ppmxl\",data_start=2)"
   ]
  },
  {
   "cell_type": "code",
   "execution_count": 3,
   "metadata": {},
   "outputs": [],
   "source": [
    "vhc4 = dat4['Vhel']\n",
    "verr4 = dat4['Verr']\n",
    "Radeg4=dat4['RA']\n",
    "Decdeg4=dat4['DEC']"
   ]
  },
  {
   "cell_type": "code",
   "execution_count": 4,
   "metadata": {},
   "outputs": [
    {
     "data": {
      "text/plain": [
       "282.75069999999999"
      ]
     },
     "execution_count": 4,
     "metadata": {},
     "output_type": "execute_result"
    }
   ],
   "source": [
    "np.max(vhc4)"
   ]
  },
  {
   "cell_type": "code",
   "execution_count": null,
   "metadata": {},
   "outputs": [],
   "source": []
  }
 ],
 "metadata": {
  "kernelspec": {
   "display_name": "Python 3",
   "language": "python",
   "name": "python3"
  },
  "language_info": {
   "codemirror_mode": {
    "name": "ipython",
    "version": 3
   },
   "file_extension": ".py",
   "mimetype": "text/x-python",
   "name": "python",
   "nbconvert_exporter": "python",
   "pygments_lexer": "ipython3",
   "version": "3.5.5"
  }
 },
 "nbformat": 4,
 "nbformat_minor": 2
}
