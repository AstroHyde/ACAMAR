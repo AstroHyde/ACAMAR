{
 "cells": [
  {
   "cell_type": "markdown",
   "metadata": {},
   "source": [
    "## GALAH"
   ]
  },
  {
   "cell_type": "code",
   "execution_count": 1,
   "metadata": {},
   "outputs": [],
   "source": [
    "from os import path\n",
    "\n",
    "from astropy.table import Table\n",
    "import h5py\n",
    "import matplotlib.pyplot as plt\n",
    "%matplotlib inline\n",
    "import numpy as np\n",
    "import pandas as pd"
   ]
  },
  {
   "cell_type": "code",
   "execution_count": 2,
   "metadata": {},
   "outputs": [],
   "source": [
    "data_path = 'sobject_iraf_combine_cannon_180108_bstep_br12_meh_clean.csv'"
   ]
  },
  {
   "cell_type": "markdown",
   "metadata": {},
   "source": [
    "### Read data"
   ]
  },
  {
   "cell_type": "code",
   "execution_count": 3,
   "metadata": {},
   "outputs": [],
   "source": [
    "reader = pd.read_table(data_path, sep=',', chunksize=4)"
   ]
  },
  {
   "cell_type": "code",
   "execution_count": 4,
   "metadata": {},
   "outputs": [
    {
     "data": {
      "text/plain": [
       "<pandas.io.parsers.TextFileReader at 0x1080dee10>"
      ]
     },
     "execution_count": 4,
     "metadata": {},
     "output_type": "execute_result"
    }
   ],
   "source": [
    "reader"
   ]
  },
  {
   "cell_type": "code",
   "execution_count": 5,
   "metadata": {},
   "outputs": [
    {
     "data": {
      "text/html": [
       "<div>\n",
       "<table border=\"1\" class=\"dataframe\">\n",
       "  <thead>\n",
       "    <tr style=\"text-align: right;\">\n",
       "      <th></th>\n",
       "      <th>sr_abund_cannon</th>\n",
       "      <th>ld_sc_abund_cannon</th>\n",
       "      <th>circ_id</th>\n",
       "      <th>chi2_ce_abund_cannon</th>\n",
       "      <th>chi2_ru_abund_cannon</th>\n",
       "      <th>pmra_tgas</th>\n",
       "      <th>ld_sm_abund_cannon</th>\n",
       "      <th>is_redclump_gbm</th>\n",
       "      <th>pts_key_tmass</th>\n",
       "      <th>ra</th>\n",
       "      <th>...</th>\n",
       "      <th>sn_zr_abund_cannon</th>\n",
       "      <th>e_ce_abund_cannon</th>\n",
       "      <th>e_alpha_fe_cannon</th>\n",
       "      <th>e_al_abund_cannon</th>\n",
       "      <th>meandec</th>\n",
       "      <th>sn_cu_abund_cannon</th>\n",
       "      <th>eu_abund_cannon</th>\n",
       "      <th>plx_tgas</th>\n",
       "      <th>gmag_gaia</th>\n",
       "      <th>ra_tmass</th>\n",
       "    </tr>\n",
       "  </thead>\n",
       "  <tbody>\n",
       "    <tr>\n",
       "      <th>0</th>\n",
       "      <td>0.963469</td>\n",
       "      <td>1.506968</td>\n",
       "      <td>313</td>\n",
       "      <td>47.563905</td>\n",
       "      <td>21.618733</td>\n",
       "      <td>nan</td>\n",
       "      <td>705.300925</td>\n",
       "      <td>nan</td>\n",
       "      <td>-2147483648</td>\n",
       "      <td>nan</td>\n",
       "      <td>...</td>\n",
       "      <td>548.907687</td>\n",
       "      <td>0.006942</td>\n",
       "      <td>0.002581306064640555</td>\n",
       "      <td>0.004688</td>\n",
       "      <td>-31.203093</td>\n",
       "      <td>294.699285</td>\n",
       "      <td>0.585913</td>\n",
       "      <td>nan</td>\n",
       "      <td>nan</td>\n",
       "      <td>nan</td>\n",
       "    </tr>\n",
       "    <tr>\n",
       "      <th>1</th>\n",
       "      <td>-0.563068</td>\n",
       "      <td>39.522745</td>\n",
       "      <td>-9223372036854775808</td>\n",
       "      <td>5.582180</td>\n",
       "      <td>5.664108</td>\n",
       "      <td>nan</td>\n",
       "      <td>205.130850</td>\n",
       "      <td>0.0</td>\n",
       "      <td>1098570788</td>\n",
       "      <td>0.0005</td>\n",
       "      <td>...</td>\n",
       "      <td>21.159430</td>\n",
       "      <td>0.052931</td>\n",
       "      <td>nan</td>\n",
       "      <td>0.050146</td>\n",
       "      <td>4.632085</td>\n",
       "      <td>19.680960</td>\n",
       "      <td>0.063838</td>\n",
       "      <td>nan</td>\n",
       "      <td>12.838</td>\n",
       "      <td>0.00047</td>\n",
       "    </tr>\n",
       "    <tr>\n",
       "      <th>2</th>\n",
       "      <td>-1.209843</td>\n",
       "      <td>16.765129</td>\n",
       "      <td>-9223372036854775808</td>\n",
       "      <td>1.605256</td>\n",
       "      <td>7.919475</td>\n",
       "      <td>nan</td>\n",
       "      <td>335.798990</td>\n",
       "      <td>0.0</td>\n",
       "      <td>641423949</td>\n",
       "      <td>0.001</td>\n",
       "      <td>...</td>\n",
       "      <td>35.565758</td>\n",
       "      <td>0.106747</td>\n",
       "      <td>nan</td>\n",
       "      <td>0.045356</td>\n",
       "      <td>-57.575716</td>\n",
       "      <td>34.910132</td>\n",
       "      <td>0.418234</td>\n",
       "      <td>nan</td>\n",
       "      <td>13.504</td>\n",
       "      <td>0.000961</td>\n",
       "    </tr>\n",
       "    <tr>\n",
       "      <th>3</th>\n",
       "      <td>0.879842</td>\n",
       "      <td>2.790175</td>\n",
       "      <td>-9223372036854775808</td>\n",
       "      <td>0.877552</td>\n",
       "      <td>13.609046</td>\n",
       "      <td>nan</td>\n",
       "      <td>546.103198</td>\n",
       "      <td>0.0</td>\n",
       "      <td>641424954</td>\n",
       "      <td>0.001</td>\n",
       "      <td>...</td>\n",
       "      <td>43.457964</td>\n",
       "      <td>0.080680</td>\n",
       "      <td>0.025071606910550926</td>\n",
       "      <td>0.042613</td>\n",
       "      <td>-57.575716</td>\n",
       "      <td>54.401007</td>\n",
       "      <td>0.627464</td>\n",
       "      <td>nan</td>\n",
       "      <td>13.209</td>\n",
       "      <td>0.001009</td>\n",
       "    </tr>\n",
       "    <tr>\n",
       "      <th>4</th>\n",
       "      <td>-0.935309</td>\n",
       "      <td>2.561479</td>\n",
       "      <td>-9223372036854775808</td>\n",
       "      <td>3.112686</td>\n",
       "      <td>9.191778</td>\n",
       "      <td>nan</td>\n",
       "      <td>113.030340</td>\n",
       "      <td>0.0</td>\n",
       "      <td>718170911</td>\n",
       "      <td>0.00158333333333</td>\n",
       "      <td>...</td>\n",
       "      <td>29.264167</td>\n",
       "      <td>0.048390</td>\n",
       "      <td>0.026497480861450165</td>\n",
       "      <td>0.044891</td>\n",
       "      <td>-77.753468</td>\n",
       "      <td>42.042841</td>\n",
       "      <td>0.344717</td>\n",
       "      <td>nan</td>\n",
       "      <td>12.844</td>\n",
       "      <td>0.001595</td>\n",
       "    </tr>\n",
       "  </tbody>\n",
       "</table>\n",
       "<p>5 rows × 360 columns</p>\n",
       "</div>"
      ],
      "text/plain": [
       "   sr_abund_cannon   ld_sc_abund_cannon              circ_id  \\\n",
       "0         0.963469             1.506968                  313   \n",
       "1        -0.563068            39.522745 -9223372036854775808   \n",
       "2        -1.209843            16.765129 -9223372036854775808   \n",
       "3         0.879842             2.790175 -9223372036854775808   \n",
       "4        -0.935309             2.561479 -9223372036854775808   \n",
       "\n",
       "    chi2_ce_abund_cannon   chi2_ru_abund_cannon  pmra_tgas  \\\n",
       "0              47.563905              21.618733        nan   \n",
       "1               5.582180               5.664108        nan   \n",
       "2               1.605256               7.919475        nan   \n",
       "3               0.877552              13.609046        nan   \n",
       "4               3.112686               9.191778        nan   \n",
       "\n",
       "    ld_sm_abund_cannon  is_redclump_gbm   pts_key_tmass                 ra  \\\n",
       "0           705.300925              nan     -2147483648                nan   \n",
       "1           205.130850              0.0      1098570788             0.0005   \n",
       "2           335.798990              0.0       641423949              0.001   \n",
       "3           546.103198              0.0       641424954              0.001   \n",
       "4           113.030340              0.0       718170911   0.00158333333333   \n",
       "\n",
       "     ...       sn_zr_abund_cannon   e_ce_abund_cannon      e_alpha_fe_cannon  \\\n",
       "0    ...               548.907687            0.006942   0.002581306064640555   \n",
       "1    ...                21.159430            0.052931                    nan   \n",
       "2    ...                35.565758            0.106747                    nan   \n",
       "3    ...                43.457964            0.080680   0.025071606910550926   \n",
       "4    ...                29.264167            0.048390   0.026497480861450165   \n",
       "\n",
       "    e_al_abund_cannon    meandec   sn_cu_abund_cannon   eu_abund_cannon  \\\n",
       "0            0.004688 -31.203093           294.699285          0.585913   \n",
       "1            0.050146   4.632085            19.680960          0.063838   \n",
       "2            0.045356 -57.575716            34.910132          0.418234   \n",
       "3            0.042613 -57.575716            54.401007          0.627464   \n",
       "4            0.044891 -77.753468            42.042841          0.344717   \n",
       "\n",
       "    plx_tgas  gmag_gaia   ra_tmass  \n",
       "0        nan        nan        nan  \n",
       "1        nan     12.838    0.00047  \n",
       "2        nan     13.504   0.000961  \n",
       "3        nan     13.209   0.001009  \n",
       "4        nan     12.844   0.001595  \n",
       "\n",
       "[5 rows x 360 columns]"
      ]
     },
     "execution_count": 5,
     "metadata": {},
     "output_type": "execute_result"
    }
   ],
   "source": [
    "test=reader.get_chunk(5)\n",
    "test"
   ]
  },
  {
   "cell_type": "code",
   "execution_count": 6,
   "metadata": {},
   "outputs": [
    {
     "data": {
      "text/plain": [
       "pandas.core.frame.DataFrame"
      ]
     },
     "execution_count": 6,
     "metadata": {},
     "output_type": "execute_result"
    }
   ],
   "source": [
    "type(test)"
   ]
  },
  {
   "cell_type": "code",
   "execution_count": 7,
   "metadata": {},
   "outputs": [
    {
     "data": {
      "text/plain": [
       "0                  nan\n",
       "1               0.0005\n",
       "2                0.001\n",
       "3                0.001\n",
       "4     0.00158333333333\n",
       "Name:  ra, dtype: object"
      ]
     },
     "execution_count": 7,
     "metadata": {},
     "output_type": "execute_result"
    }
   ],
   "source": [
    "#RA column only\n",
    "test.iloc[:, 9]"
   ]
  },
  {
   "cell_type": "code",
   "execution_count": 8,
   "metadata": {},
   "outputs": [],
   "source": [
    "#sr_abund_cannon, ld_sc_abund_cannon, circ_id, chi2_ce_abund_cannon, chi2_ru_abund_cannon, \n",
    "#pmra_tgas, ld_sm_abund_cannon, is_redclump_gbm, pts_key_tmass, ra, e_mn_abund_cannon, \n",
    "#e_k_abund_cannon, flag_mn_abund_cannon, gaia_id, e_pmdec_tgas, n_mfflx, flag_sr_abund_cannon, \n",
    "#e_nd_abund_cannon, rb_abund_cannon, mpos1_ucac4, red_vers, e_cu_abund_cannon, n_mfobject, snr_c3_guess, \n",
    "#feh_cannon, chi2_zr_abund_cannon, e_na_abund_cannon, cu_abund_cannon, mo_abund_cannon, y_abund_cannon, \n",
    "#e_li_abund_cannon, flag_sc_abund_cannon, flag_mg_abund_cannon, e_jmag, ndfclass, galah_id, chi2_cr_abund_cannon, \n",
    "#ld_k_abund_cannon, object_name, ld_cr_abund_cannon, vsini_cannon, e_v_abund_cannon, glat, vmag_jk, \n",
    "#chi2_ca_abund_cannon, field_name, logg_cannon, ld_al_abund_cannon, e_o_abund_cannon, pzgc, flag_c_abund_cannon, \n",
    "#dec, e_mo_abund_cannon, v_bary, ld_zr_abund_cannon, ld_ce_abund_cannon, sn_ba_abund_cannon, mn_abund_cannon, \n",
    "#flag_y_abund_cannon, chi2_sr_abund_cannon, e_zn_abund_cannon, sn_nd_abund_cannon, e_plx_tgas, e_log_teff_gbm, \n",
    "#na_abund_cannon, mag, date, ld_ba_abund_cannon, sobjectb_id, e_sr_abund_cannon, tycho2_id, chi2_mn_abund_cannon, \n",
    "#cfg_file, pmra_ucac5, pmra_ucac4, vrgc, ld_eu_abund_cannon, flag_sanjib, sn_o_abund_cannon, sn_c_abund_cannon, \n",
    "#pmra_hsoy, flag_ca_abund_cannon, dmod_gbm, name, sn_si_abund_cannon, jmag, flag_cr_abund_cannon, \n",
    "#ld_li_abund_cannon, n_runs, flag_guess, teff_cannon, e_hmag, sn_ti_abund_cannon, sn_mo_abund_cannon, \n",
    "#flag_k_abund_cannon, snr_c4_iraf, obsid, dirname, e_ca_abund_cannon, e_ti_abund_cannon, e_y_abund_cannon, \n",
    "#e_vtmag, flag_ru_abund_cannon, e_c_abund_cannon, gmag_ucac4, e_co_abund_cannon, e_mg_abund_cannon, progname, \n",
    "#cenra, ld_la_abund_cannon, m_ini_gbm, n_guess, e_kmag, snr_c2_iraf, e_log_grav_gbm, e_m_ini_gbm, \n",
    "#ld_ti_abund_cannon, zn_abund_cannon, snr_c4_guess, sn_zn_abund_cannon, e_dmod_gbm, ld_cu_abund_cannon, \n",
    "#flag_zr_abund_cannon, e_pmdec_ucac5, e_pmdec_ucac4, bmag_ucac4, omega_gbm, e_rv_guess, e_ebv_gbm, \n",
    "#ld_y_abund_cannon, zr_abund_cannon, snr_c1_iraf, sn_ru_abund_cannon, utmjd, chi2_si_abund_cannon, tmass_id, \n",
    "#sn_ce_abund_cannon, imag_ucac4, chi2_mg_abund_cannon, sn_co_abund_cannon, ld_zn_abund_cannon, qflag, \n",
    "#std_name, e_vsini_cannon, flag_eu_abund_cannon, e_cr_abund_cannon, m_act_gbm, chi2_co_abund_cannon, \n",
    "#rv_c2_guess, feh_gbm, sm_abund_cannon, sn_sc_abund_cannon, ld_v_abund_cannon, e_ba_abund_cannon, \n",
    "#flag_na_abund_cannon, glon, field_id, alpha_fe_cannon, log_grav_gbm, snr_c1_guess, e_ni_abund_cannon, \n",
    "#flag_o_abund_cannon, vtmag, oclass, meanra, mg_abund_cannon, hmag, nd_abund_cannon, gmag_tgas, \n",
    "#e_zr_abund_cannon, e_si_abund_cannon, e_dist_gbm, ld_rb_abund_cannon, e_teff_cannon, e_la_abund_cannon, \n",
    "#ti_abund_cannon, log_lum_gbm, e_pmra_ucac5, e_pmra_ucac4, chi2_la_abund_cannon, plate, \n",
    "#chi2_ba_abund_cannon, ld_ru_abund_cannon, ld_mn_abund_cannon, sp_label_distance, flag_ti_abund_cannon, \n",
    "#rmag_ucac4, flag_ce_abund_cannon, red_flag, o_abund_cannon, li_abund_cannon, chi2_v_abund_cannon, \n",
    "#cob_id, e_omega_gbm, e_radius_gbm, flag_ni_abund_cannon, chi2_cannon, ld_sr_abund_cannon, \n",
    "#ld_nd_abund_cannon, ca_abund_cannon, e_ak_cannon, ebv, chi2_y_abund_cannon, tycho_id, \n",
    "#e_eu_abund_cannon, flag_ba_abund_cannon, flag_cannon, btmag, sn_la_abund_cannon, e_logg_cannon, \n",
    "#ak_cannon, flag_la_abund_cannon, pmdec_ucac5, pmdec_ucac4, rv_c1_guess, fieldid, comment, run_id, \n",
    "#chi2_ti_abund_cannon, ebv_gbm, k_abund_cannon, la_abund_cannon, pz, px, py, e_kepler_ks_gbm, ba_abund_cannon, \n",
    "#rgc, e_kepler_j_gbm, flag_li_abund_cannon, e_pmra_hsoy, teff_guess, rv_c3_guess, flag_al_abund_cannon, \n",
    "#e_age_gbm, e_gmag_gaia, sn_ca_abund_cannon, flag_si_abund_cannon, co_abund_cannon, sn_na_abund_cannon, \n",
    "#ld_ni_abund_cannon, e_sc_abund_cannon, vb, rv_guess_shift, vl, chi2_eu_abund_cannon, vx, vy, vz, \n",
    "#sn_y_abund_cannon, v_abund_cannon, snr_c3_iraf, vzgc, flag_cu_abund_cannon, sn_mg_abund_cannon, \n",
    "#flag_co_abund_cannon, si_abund_cannon, chi2_sc_abund_cannon, sn_eu_abund_cannon, e_is_redclump_gbm, \n",
    "#e_sm_abund_cannon, flag_v_abund_cannon, ccd, vmag_ucac4, e_pmdec_hsoy, chi2_o_abund_cannon, \n",
    "#al_abund_cannon, chi2_zn_abund_cannon, chi2_sm_abund_cannon, e_ru_abund_cannon, e_gmag_tgas, \n",
    "#chi2_ni_abund_cannon, vlgc, kepler_j_gbm, ld_mo_abund_cannon, radius_gbm, e_log_lum_gbm, ce_abund_cannon, \n",
    "#ni_abund_cannon, sn_li_abund_cannon, cr_abund_cannon, sn_rb_abund_cannon, sn_cr_abund_cannon, exposed, \n",
    "#sn_mn_abund_cannon, ucac4_id, sn_ni_abund_cannon, ld_co_abund_cannon, airmass, run, flag_sm_abund_cannon, \n",
    "#sn_al_abund_cannon, logg_guess, sn_sr_abund_cannon, rv_guess, e_feh_gbm, ld_mg_abund_cannon, \n",
    "#chi2_na_abund_cannon, e_btmag, ld_si_abund_cannon, ndfclass_new, chi2_cu_abund_cannon, rv_c4_guess, dist_gbm, \n",
    "#ld_c_abund_cannon, chi2_rb_abund_cannon, chi2_mo_abund_cannon, flag_mo_abund_cannon, vmic_cannon, \n",
    "#source_id_tgas, pmdec_hsoy, e_vmic_cannon, fitsfile, e_rb_abund_cannon, obstatus, sobject_id, pmdec_tgas, \n",
    "#ld_na_abund_cannon, e_m_act_gbm, kmag, ru_abund_cannon, ndfclass_updated, chi2_li_abund_cannon, \n",
    "#chi2_nd_abund_cannon, e_pmra_tgas, snr_c2_guess, ld_o_abund_cannon, sn_k_abund_cannon, chi2_k_abund_cannon, \n",
    "#flag_zn_abund_cannon, log_teff_gbm, chi2_al_abund_cannon, dec_tmass, chi2_c_abund_cannon, ld_ca_abund_cannon, \n",
    "#feh_guess, flag_rb_abund_cannon, flag_nd_abund_cannon, c_abund_cannon, e_feh_cannon, age_gbm, runccd_id, lgc, \n",
    "#kepler_ks_gbm, cendec, sn_v_abund_cannon, std_fib, sc_abund_cannon, sn_sm_abund_cannon, program_id, \n",
    "#sn_zr_abund_cannon, e_ce_abund_cannon, e_alpha_fe_cannon, e_al_abund_cannon, meandec, sn_cu_abund_cannon, \n",
    "#eu_abund_cannon, plx_tgas, gmag_gaia, ra_tmass"
   ]
  },
  {
   "cell_type": "markdown",
   "metadata": {},
   "source": [
    "Data chunks can now be accessed and used"
   ]
  },
  {
   "cell_type": "code",
   "execution_count": 9,
   "metadata": {},
   "outputs": [],
   "source": [
    "import astropy.coordinates as coord\n",
    "import astropy.units as u"
   ]
  },
  {
   "cell_type": "code",
   "execution_count": 14,
   "metadata": {},
   "outputs": [],
   "source": []
  },
  {
   "cell_type": "code",
   "execution_count": 15,
   "metadata": {},
   "outputs": [],
   "source": []
  },
  {
   "cell_type": "code",
   "execution_count": null,
   "metadata": {},
   "outputs": [],
   "source": []
  }
 ],
 "metadata": {
  "kernelspec": {
   "display_name": "Python 3",
   "language": "python",
   "name": "python3"
  },
  "language_info": {
   "codemirror_mode": {
    "name": "ipython",
    "version": 3
   },
   "file_extension": ".py",
   "mimetype": "text/x-python",
   "name": "python",
   "nbconvert_exporter": "python",
   "pygments_lexer": "ipython3",
   "version": "3.5.5"
  }
 },
 "nbformat": 4,
 "nbformat_minor": 2
}
